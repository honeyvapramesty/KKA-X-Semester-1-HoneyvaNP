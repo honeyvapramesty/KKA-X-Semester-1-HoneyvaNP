{
  "nbformat": 4,
  "nbformat_minor": 0,
  "metadata": {
    "colab": {
      "provenance": [],
      "authorship_tag": "ABX9TyPGj2McLhnXZC2srvam6e6k",
      "include_colab_link": true
    },
    "kernelspec": {
      "name": "python3",
      "display_name": "Python 3"
    },
    "language_info": {
      "name": "python"
    }
  },
  "cells": [
    {
      "cell_type": "markdown",
      "metadata": {
        "id": "view-in-github",
        "colab_type": "text"
      },
      "source": [
        "<a href=\"https://colab.research.google.com/github/honeyvapramesty/KKA-X-Semester-1-HoneyvaNP/blob/main/1_Fungsi_print_Honeyva_X_1.ipynb\" target=\"_parent\"><img src=\"https://colab.research.google.com/assets/colab-badge.svg\" alt=\"Open In Colab\"/></a>"
      ]
    },
    {
      "cell_type": "markdown",
      "source": [
        "nama:honeyva neelam pramesty\n",
        "\n",
        "kelas: X-1\n",
        "\n",
        "no absen:13"
      ],
      "metadata": {
        "id": "3ce8bzxq169q"
      }
    },
    {
      "cell_type": "code",
      "source": [],
      "metadata": {
        "id": "vG5wwGzc382K"
      },
      "execution_count": null,
      "outputs": []
    },
    {
      "cell_type": "markdown",
      "source": [
        "#menampilkan teks bebas"
      ],
      "metadata": {
        "id": "J05vSzFq4cje"
      }
    },
    {
      "cell_type": "markdown",
      "source": [],
      "metadata": {
        "id": "Hb1suIjz9jVx"
      }
    },
    {
      "cell_type": "code",
      "source": [
        "print(\"honeyva neelam\")"
      ],
      "metadata": {
        "colab": {
          "base_uri": "https://localhost:8080/"
        },
        "id": "AHOq2SQ95lly",
        "outputId": "9680e286-1581-4985-956e-238b1698de2c"
      },
      "execution_count": null,
      "outputs": [
        {
          "output_type": "stream",
          "name": "stdout",
          "text": [
            "honeyva neelam\n"
          ]
        }
      ]
    },
    {
      "cell_type": "markdown",
      "source": [
        "#menampilkan nilai variabel"
      ],
      "metadata": {
        "id": "mO-qs9Zw627d"
      }
    },
    {
      "cell_type": "code",
      "source": [
        "nama_idola=\"maudy ayunda\"\n",
        "print(nama_idola)"
      ],
      "metadata": {
        "colab": {
          "base_uri": "https://localhost:8080/"
        },
        "id": "TWLe8PkQ7CF4",
        "outputId": "1d80d9c0-69da-42c0-8396-71de60f26cd9"
      },
      "execution_count": null,
      "outputs": [
        {
          "output_type": "stream",
          "name": "stdout",
          "text": [
            "maudy ayunda\n"
          ]
        }
      ]
    },
    {
      "cell_type": "code",
      "source": [
        "usia=16\n",
        "print (usia)"
      ],
      "metadata": {
        "colab": {
          "base_uri": "https://localhost:8080/"
        },
        "id": "3seJ9Z1p74OY",
        "outputId": "70caaf50-ed57-422a-84a3-d9e71ccc963a"
      },
      "execution_count": null,
      "outputs": [
        {
          "output_type": "stream",
          "name": "stdout",
          "text": [
            "16\n"
          ]
        }
      ]
    },
    {
      "cell_type": "markdown",
      "source": [
        "Latihan soal\n",
        "\n",
        "1. Buat variabel nama saudara dan tampilkan\n",
        "2. Buat variabel jaumlah saudara dan tampilkan"
      ],
      "metadata": {
        "id": "LmPKiWOz9PKc"
      }
    },
    {
      "cell_type": "code",
      "source": [
        "nama_saudara=\"enrico cannavaro\"\n",
        "print(nama_saudara)"
      ],
      "metadata": {
        "colab": {
          "base_uri": "https://localhost:8080/"
        },
        "id": "TdcYreUm92eI",
        "outputId": "6592e451-5ab7-40e4-c996-d819808e1b3b"
      },
      "execution_count": null,
      "outputs": [
        {
          "output_type": "stream",
          "name": "stdout",
          "text": [
            "enrico cannavaro\n"
          ]
        }
      ]
    },
    {
      "cell_type": "code",
      "source": [
        "jumlah_saudara=2\n",
        "print(jumlah_saudara)"
      ],
      "metadata": {
        "colab": {
          "base_uri": "https://localhost:8080/"
        },
        "id": "mitwerQ4-f7S",
        "outputId": "811e2e61-1fa7-49a9-bdae-3ab7ef32ddbe"
      },
      "execution_count": null,
      "outputs": [
        {
          "output_type": "stream",
          "name": "stdout",
          "text": [
            "2\n"
          ]
        }
      ]
    },
    {
      "cell_type": "markdown",
      "source": [
        "#Menampilkan Nilai Variabel dan String"
      ],
      "metadata": {
        "id": "-OlKgmop3meR"
      }
    },
    {
      "cell_type": "code",
      "source": [
        "print(\"nama idola saya adalah\",nama_idola,\". usianya adalah\",usia,\"tahun.\")"
      ],
      "metadata": {
        "colab": {
          "base_uri": "https://localhost:8080/"
        },
        "id": "LQ92EQTx4Sri",
        "outputId": "0f15e4fb-f919-4e70-d214-0b194621ac0a"
      },
      "execution_count": null,
      "outputs": [
        {
          "output_type": "stream",
          "name": "stdout",
          "text": [
            "nama idola saya adalah maudy ayunda . usianya adalah 16 tahun.\n"
          ]
        }
      ]
    },
    {
      "cell_type": "code",
      "source": [
        "print(\"Nama idola saya adalah\"+nama_idola+\". usianya adalah\"+str(usia)+\"tahun.\")"
      ],
      "metadata": {
        "colab": {
          "base_uri": "https://localhost:8080/"
        },
        "id": "E7YhcQJJ5AwO",
        "outputId": "deaf1c06-69cc-476c-f658-e8ff15c97414"
      },
      "execution_count": null,
      "outputs": [
        {
          "output_type": "stream",
          "name": "stdout",
          "text": [
            "Nama idola saya adalahmaudy ayunda. usianya adalah16tahun.\n"
          ]
        }
      ]
    },
    {
      "cell_type": "code",
      "source": [
        "print(f\"Nama idola saya adalah {nama_idola}. usianya adalah{16}tahun.\")"
      ],
      "metadata": {
        "colab": {
          "base_uri": "https://localhost:8080/"
        },
        "id": "M6Xw1LxI55OL",
        "outputId": "dbb7cb18-4960-46b4-9b4d-5371257b5fd0"
      },
      "execution_count": null,
      "outputs": [
        {
          "output_type": "stream",
          "name": "stdout",
          "text": [
            "Nama idola saya adalah maudy ayunda. usianya adalah16tahun.\n"
          ]
        }
      ]
    },
    {
      "cell_type": "markdown",
      "source": [
        "#Escape character"
      ],
      "metadata": {
        "id": "-mWy-FPL9fta"
      }
    },
    {
      "cell_type": "code",
      "source": [
        "print(\"Nama: Honeyva Neelam\")\n",
        "print(\"kelas:X.1\")\n",
        "print(\"No.Absen:14\")"
      ],
      "metadata": {
        "colab": {
          "base_uri": "https://localhost:8080/"
        },
        "id": "t7PFNt0B9npj",
        "outputId": "d1b7a1e0-e793-405b-e2c6-78fc26c23d1e"
      },
      "execution_count": null,
      "outputs": [
        {
          "output_type": "stream",
          "name": "stdout",
          "text": [
            "Nama: Honeyva Neelam\n",
            "kelas:X.1\n",
            "No.Absen:14\n"
          ]
        }
      ]
    },
    {
      "cell_type": "code",
      "source": [
        "print(\"Nama: Honeyva Neelam\\nKelas:X.1\\nNo.absen:14\")"
      ],
      "metadata": {
        "colab": {
          "base_uri": "https://localhost:8080/"
        },
        "id": "FJMlP4R2-KIS",
        "outputId": "02357182-2263-4365-9d4f-f048c01f91d9"
      },
      "execution_count": null,
      "outputs": [
        {
          "output_type": "stream",
          "name": "stdout",
          "text": [
            "Nama: Honeyva Neelam\n",
            "Kelas:X.1\n",
            "No.absen:14\n"
          ]
        }
      ]
    },
    {
      "cell_type": "code",
      "source": [
        "print(\"\"\"Nama\\t\\t:Honeyva Neelam\n",
        "kelas\\t\\t:X.1\n",
        "No.Absen\\t:14\"\"\")"
      ],
      "metadata": {
        "colab": {
          "base_uri": "https://localhost:8080/"
        },
        "id": "EgtWwhzd-lPm",
        "outputId": "0b586f47-cf59-4e33-f800-bae489508ae4"
      },
      "execution_count": null,
      "outputs": [
        {
          "output_type": "stream",
          "name": "stdout",
          "text": [
            "Nama\t\t:Honeyva Neelam\n",
            "kelas\t\t:X.1\n",
            "No.Absen\t:14\n"
          ]
        }
      ]
    },
    {
      "cell_type": "code",
      "source": [
        "print(\"Halo Nama Saya Habib Jafar\")"
      ],
      "metadata": {
        "colab": {
          "base_uri": "https://localhost:8080/"
        },
        "id": "x5OuXezBiELK",
        "outputId": "15da3f79-1fb8-4a03-c910-db8f45106190"
      },
      "execution_count": null,
      "outputs": [
        {
          "output_type": "stream",
          "name": "stdout",
          "text": [
            "Halo Nama Saya Habib Jafar\n"
          ]
        }
      ]
    },
    {
      "cell_type": "code",
      "source": [
        "print('Halo Nama Saya Habib Jafar')"
      ],
      "metadata": {
        "colab": {
          "base_uri": "https://localhost:8080/"
        },
        "id": "XrM3aXtcwis5",
        "outputId": "7210d3f9-d5bd-47b4-dda3-ef0079d25b3e"
      },
      "execution_count": null,
      "outputs": [
        {
          "output_type": "stream",
          "name": "stdout",
          "text": [
            "Halo Nama Saya Habib Jafar\n"
          ]
        }
      ]
    },
    {
      "cell_type": "code",
      "source": [
        "print('Halo Nama Saya Habib Ja\\'far')"
      ],
      "metadata": {
        "colab": {
          "base_uri": "https://localhost:8080/"
        },
        "id": "WA1KxMdrio1t",
        "outputId": "c0ae180b-14b0-42e7-a418-e0b50d75d04b"
      },
      "execution_count": null,
      "outputs": [
        {
          "output_type": "stream",
          "name": "stdout",
          "text": [
            "Halo Nama Saya Habib Ja'far\n"
          ]
        }
      ]
    },
    {
      "cell_type": "code",
      "source": [
        "print(\"Halo Nama Saya Habib Ja'far\")"
      ],
      "metadata": {
        "colab": {
          "base_uri": "https://localhost:8080/"
        },
        "id": "2H4XMMcXjFtr",
        "outputId": "46368c91-e30c-4eeb-999f-f22d81ae0827"
      },
      "execution_count": null,
      "outputs": [
        {
          "output_type": "stream",
          "name": "stdout",
          "text": [
            "Halo Nama Saya Habib Ja'far\n"
          ]
        }
      ]
    },
    {
      "cell_type": "code",
      "source": [
        "print(\"Bu ShintaBerkata,\\\"Tolong Fokus Ke Tv Sejenak.\\\"\")"
      ],
      "metadata": {
        "colab": {
          "base_uri": "https://localhost:8080/"
        },
        "id": "PUPgsAyZjiKM",
        "outputId": "989572d0-9bef-469b-ffc4-ec7114336f85"
      },
      "execution_count": null,
      "outputs": [
        {
          "output_type": "stream",
          "name": "stdout",
          "text": [
            "Bu ShintaBerkata,\"Tolong Fokus Ke Tv Sejenak.\"\n"
          ]
        }
      ]
    },
    {
      "cell_type": "code",
      "source": [
        "print ('Bu Shinta Berkata,\"Tolong Fokus Ke Tv Sejenak.\"')"
      ],
      "metadata": {
        "colab": {
          "base_uri": "https://localhost:8080/"
        },
        "id": "J-UnRok4k2aU",
        "outputId": "21ce2c83-bea5-44bd-b2b4-0533cacc36df"
      },
      "execution_count": null,
      "outputs": [
        {
          "output_type": "stream",
          "name": "stdout",
          "text": [
            "Bu Shinta Berkata,\"Tolong Fokus Ke Tv Sejenak.\"\n"
          ]
        }
      ]
    },
    {
      "cell_type": "code",
      "source": [
        "print(\"silahkan simpan file tugas KKA di folder Local disk D:\\\\MAN Demak\\\\KKA\\\\Tugas\")"
      ],
      "metadata": {
        "colab": {
          "base_uri": "https://localhost:8080/"
        },
        "id": "7eXTDHN1lOZL",
        "outputId": "aa9d500d-8aa0-443e-a0d9-6839b52805de"
      },
      "execution_count": null,
      "outputs": [
        {
          "output_type": "stream",
          "name": "stdout",
          "text": [
            "silahkan simpan file tugas KKA di folder Local disk D:\\MAN Demak\\KKA\\Tugas\n"
          ]
        }
      ]
    },
    {
      "cell_type": "code",
      "source": [
        "print('Bu Shinta Berkata, \"Berikut adalah daftar piket harian kelas X.2 yang disimpan di file D:\\\\Man Demak\\\\Jadwal Piket.')\n",
        "print(\"\\n\")\n",
        "print(\"Senin\\tSelasa\\tRabu\")\n",
        "print(\"Jielo\\tHasbi\\tNaufal\")\n",
        "print(\"Azam\\tA'inun\\tNurul\")"
      ],
      "metadata": {
        "id": "E6gTTB6omXYl",
        "colab": {
          "base_uri": "https://localhost:8080/"
        },
        "outputId": "95ce1bb8-0b74-4e73-bf33-6aa9f3de5874"
      },
      "execution_count": null,
      "outputs": [
        {
          "output_type": "stream",
          "name": "stdout",
          "text": [
            "Bu Shinta Berkata, \"Berikut adalah daftar piket harian kelas X.2 yang disimpan di file D:\\Man Demak\\Jadwal Piket.\n",
            "\n",
            "\n",
            "Senin\tSelasa\tRabu\n",
            "Jielo\tHasbi\tNaufal\n",
            "Azam\tA'inun\tNurul\n"
          ]
        }
      ]
    },
    {
      "cell_type": "markdown",
      "source": [
        "#Parameter Fungsi Print"
      ],
      "metadata": {
        "id": "UAbO2JC5pFnK"
      }
    },
    {
      "cell_type": "code",
      "source": [
        "nama_siswa_1 = \"Dias\"\n",
        "nama_siswa_2 = \"Disa\"\n",
        "\n",
        "print(nama_siswa_1,end=\" \")\n",
        "print(nama_siswa_2)"
      ],
      "metadata": {
        "colab": {
          "base_uri": "https://localhost:8080/"
        },
        "id": "Mw9I3VoXpPIu",
        "outputId": "e9491a3a-122f-4095-f387-7cc20c38da59"
      },
      "execution_count": null,
      "outputs": [
        {
          "output_type": "stream",
          "name": "stdout",
          "text": [
            "Dias Disa\n"
          ]
        }
      ]
    },
    {
      "cell_type": "code",
      "source": [
        "print(nama_siswa_1, nama_siswa_2)"
      ],
      "metadata": {
        "colab": {
          "base_uri": "https://localhost:8080/"
        },
        "id": "afbX76wgp1Cb",
        "outputId": "02290441-bd1b-4736-9a26-951ebe897a55"
      },
      "execution_count": null,
      "outputs": [
        {
          "output_type": "stream",
          "name": "stdout",
          "text": [
            "Dias Disa\n"
          ]
        }
      ]
    },
    {
      "cell_type": "code",
      "source": [
        "print(nama_siswa_1, nama_siswa_2, sep=\"-\")"
      ],
      "metadata": {
        "colab": {
          "base_uri": "https://localhost:8080/"
        },
        "id": "fxg39QOCqDET",
        "outputId": "e3077a03-1f34-4167-a95d-f097643867a0"
      },
      "execution_count": null,
      "outputs": [
        {
          "output_type": "stream",
          "name": "stdout",
          "text": [
            "Dias-Disa\n"
          ]
        }
      ]
    },
    {
      "cell_type": "code",
      "source": [
        "nama_siswa_3 = \"Kinan\"\n",
        "nama_siswa_4 = \"Azka\"\n",
        "nama_siswa_5 = \"Naufal\"\n",
        "nama_siswa_6 = \"Ridho\"\n",
        "\n",
        "print(nama_siswa_6, nama_siswa_3, nama_siswa_5, nama_siswa_4, sep=\"/\")"
      ],
      "metadata": {
        "colab": {
          "base_uri": "https://localhost:8080/"
        },
        "id": "NbmahNVIqjZ_",
        "outputId": "ce6b5e7a-0fa2-4085-e78f-06b8dd7e85ab"
      },
      "execution_count": null,
      "outputs": [
        {
          "output_type": "stream",
          "name": "stdout",
          "text": [
            "Ridho/Kinan/Naufal/Azka\n"
          ]
        }
      ]
    },
    {
      "cell_type": "code",
      "source": [
        "print(nama_siswa_4, end=\"*\")\n",
        "print(nama_siswa_4, end=\"*\")\n",
        "print(nama_siswa_5, end=\"*\")\n",
        "print(nama_siswa_6,)"
      ],
      "metadata": {
        "colab": {
          "base_uri": "https://localhost:8080/"
        },
        "id": "NUIULIrqu-Uj",
        "outputId": "65328b6c-b243-4a4f-bc00-e1a57b1815b5"
      },
      "execution_count": null,
      "outputs": [
        {
          "output_type": "stream",
          "name": "stdout",
          "text": [
            "Azka*Azka*Naufal*Ridho\n"
          ]
        }
      ]
    }
  ]
}